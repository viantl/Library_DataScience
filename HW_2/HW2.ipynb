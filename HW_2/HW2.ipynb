{
 "cells": [
  {
   "cell_type": "markdown",
   "id": "75a58d4a",
   "metadata": {},
   "source": [
    "## 1. В чём различие между зависимыми и независимыми выборками?"
   ]
  },
  {
   "cell_type": "markdown",
   "id": "e6e58a4e",
   "metadata": {},
   "source": [
    "В зависимых выборках существует связь при выборе объектов (данных) из одной выборки на другую, в независимых - связь отсутствует, объекты не взаимосвязаны."
   ]
  },
  {
   "cell_type": "markdown",
   "id": "77b7af25",
   "metadata": {},
   "source": [
    "## 2. Когда применяются параметрические статистические критерии, а когда — их непараметрические аналоги?"
   ]
  },
  {
   "cell_type": "markdown",
   "id": "9029c37d",
   "metadata": {},
   "source": [
    "Параметрические критерии применяются при нормальном распределении данных (или близком к нормальному). Непараметрические - когда характер распределения отличается от нормального либо недостаточных данных выборки."
   ]
  }
 ],
 "metadata": {
  "kernelspec": {
   "display_name": "Python 3 (ipykernel)",
   "language": "python",
   "name": "python3"
  },
  "language_info": {
   "codemirror_mode": {
    "name": "ipython",
    "version": 3
   },
   "file_extension": ".py",
   "mimetype": "text/x-python",
   "name": "python",
   "nbconvert_exporter": "python",
   "pygments_lexer": "ipython3",
   "version": "3.9.7"
  }
 },
 "nbformat": 4,
 "nbformat_minor": 5
}
