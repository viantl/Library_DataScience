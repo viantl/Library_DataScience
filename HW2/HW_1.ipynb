{
 "cells": [
  {
   "cell_type": "markdown",
   "id": "656f056e",
   "metadata": {},
   "source": [
    "# Урок 1. Введение в задачу классификации. Постановка задачи и подготовка данных."
   ]
  },
  {
   "cell_type": "markdown",
   "id": "75d2ff97",
   "metadata": {},
   "source": [
    "### 1. Приведите по 2 примера, когда лучше максимизировать Precision, а когда Recall"
   ]
  },
  {
   "cell_type": "markdown",
   "id": "da903b2c",
   "metadata": {},
   "source": [
    "Примеры моделей, когда важно максимизировать Recall:\n",
    "Прогнозирование последствий радиоактивного облучения в зависимости от мощности дозы, состояния здоровья, возраста.\n",
    "Входной контроль качества деталей турбины гидроэлектростанции\n",
    "\n",
    "Примеры моделей, когда важно максимизировать Precision:\n",
    "Распознование звуков голосов тропических птиц для составления планов обитания видов\n",
    "Информационный поиск"
   ]
  },
  {
   "cell_type": "markdown",
   "id": "93944fbb",
   "metadata": {},
   "source": [
    "### 2. Почему мы используем F-меру, почему, например, нельзя просто взять среднее от Precision и Recall?"
   ]
  },
  {
   "cell_type": "markdown",
   "id": "0a49083a",
   "metadata": {},
   "source": [
    "F-мера - гармоническое среднее, для уравновешивания точности и полноты предсказания. "
   ]
  }
 ],
 "metadata": {
  "kernelspec": {
   "display_name": "Python 3 (ipykernel)",
   "language": "python",
   "name": "python3"
  },
  "language_info": {
   "codemirror_mode": {
    "name": "ipython",
    "version": 3
   },
   "file_extension": ".py",
   "mimetype": "text/x-python",
   "name": "python",
   "nbconvert_exporter": "python",
   "pygments_lexer": "ipython3",
   "version": "3.9.7"
  }
 },
 "nbformat": 4,
 "nbformat_minor": 5
}
